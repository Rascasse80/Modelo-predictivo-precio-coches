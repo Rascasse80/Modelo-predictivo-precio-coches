{
 "cells": [
  {
   "cell_type": "code",
   "execution_count": 253,
   "id": "9c354519",
   "metadata": {},
   "outputs": [],
   "source": [
    "import numpy as np\n",
    "import pandas as pd\n",
    "import matplotlib.pyplot as plt\n",
    "import seaborn as sns\n",
    "\n",
    "from sklearn.linear_model import LinearRegression\n",
    "from sklearn.neighbors import KNeighborsRegressor\n",
    "from sklearn.neighbors import RadiusNeighborsRegressor"
   ]
  },
  {
   "cell_type": "code",
   "execution_count": 287,
   "id": "64077788",
   "metadata": {},
   "outputs": [
    {
     "data": {
      "text/html": [
       "<div>\n",
       "<style scoped>\n",
       "    .dataframe tbody tr th:only-of-type {\n",
       "        vertical-align: middle;\n",
       "    }\n",
       "\n",
       "    .dataframe tbody tr th {\n",
       "        vertical-align: top;\n",
       "    }\n",
       "\n",
       "    .dataframe thead th {\n",
       "        text-align: right;\n",
       "    }\n",
       "</style>\n",
       "<table border=\"1\" class=\"dataframe\">\n",
       "  <thead>\n",
       "    <tr style=\"text-align: right;\">\n",
       "      <th></th>\n",
       "      <th>Precio</th>\n",
       "      <th>Combustible</th>\n",
       "      <th>Año</th>\n",
       "      <th>Km</th>\n",
       "      <th>CV</th>\n",
       "      <th>Provincia</th>\n",
       "      <th>Marca</th>\n",
       "    </tr>\n",
       "  </thead>\n",
       "  <tbody>\n",
       "    <tr>\n",
       "      <th>0</th>\n",
       "      <td>7999</td>\n",
       "      <td>Diésel</td>\n",
       "      <td>1993</td>\n",
       "      <td>293234</td>\n",
       "      <td>115.0</td>\n",
       "      <td>Zaragoza</td>\n",
       "      <td>NISSAN</td>\n",
       "    </tr>\n",
       "    <tr>\n",
       "      <th>1</th>\n",
       "      <td>10990</td>\n",
       "      <td>Gasolina</td>\n",
       "      <td>1993</td>\n",
       "      <td>187000</td>\n",
       "      <td>320.0</td>\n",
       "      <td>Valencia</td>\n",
       "      <td>MERCEDES-BENZ</td>\n",
       "    </tr>\n",
       "    <tr>\n",
       "      <th>2</th>\n",
       "      <td>5990</td>\n",
       "      <td>Gasolina</td>\n",
       "      <td>1993</td>\n",
       "      <td>80000</td>\n",
       "      <td>145.0</td>\n",
       "      <td>Madrid</td>\n",
       "      <td>MITSUBISHI</td>\n",
       "    </tr>\n",
       "    <tr>\n",
       "      <th>3</th>\n",
       "      <td>79000</td>\n",
       "      <td>Gasolina</td>\n",
       "      <td>1993</td>\n",
       "      <td>169000</td>\n",
       "      <td>250.0</td>\n",
       "      <td>Barcelona</td>\n",
       "      <td>PORSCHE</td>\n",
       "    </tr>\n",
       "    <tr>\n",
       "      <th>4</th>\n",
       "      <td>4950</td>\n",
       "      <td>Gasolina</td>\n",
       "      <td>1993</td>\n",
       "      <td>250000</td>\n",
       "      <td>109.0</td>\n",
       "      <td>Ávila</td>\n",
       "      <td>MERCEDES-BENZ</td>\n",
       "    </tr>\n",
       "    <tr>\n",
       "      <th>...</th>\n",
       "      <td>...</td>\n",
       "      <td>...</td>\n",
       "      <td>...</td>\n",
       "      <td>...</td>\n",
       "      <td>...</td>\n",
       "      <td>...</td>\n",
       "      <td>...</td>\n",
       "    </tr>\n",
       "    <tr>\n",
       "      <th>99299</th>\n",
       "      <td>528000</td>\n",
       "      <td>Gasolina</td>\n",
       "      <td>2023</td>\n",
       "      <td>270</td>\n",
       "      <td>700.0</td>\n",
       "      <td>Murcia</td>\n",
       "      <td>ASTON</td>\n",
       "    </tr>\n",
       "    <tr>\n",
       "      <th>99300</th>\n",
       "      <td>194000</td>\n",
       "      <td>Gasolina</td>\n",
       "      <td>2023</td>\n",
       "      <td>60</td>\n",
       "      <td>535.0</td>\n",
       "      <td>Murcia</td>\n",
       "      <td>ASTON</td>\n",
       "    </tr>\n",
       "    <tr>\n",
       "      <th>99301</th>\n",
       "      <td>34900</td>\n",
       "      <td>Gasolina</td>\n",
       "      <td>2023</td>\n",
       "      <td>50</td>\n",
       "      <td>155.0</td>\n",
       "      <td>Vizcaya</td>\n",
       "      <td>FORD</td>\n",
       "    </tr>\n",
       "    <tr>\n",
       "      <th>99302</th>\n",
       "      <td>219000</td>\n",
       "      <td>Gasolina</td>\n",
       "      <td>2023</td>\n",
       "      <td>90</td>\n",
       "      <td>535.0</td>\n",
       "      <td>Murcia</td>\n",
       "      <td>ASTON</td>\n",
       "    </tr>\n",
       "    <tr>\n",
       "      <th>99303</th>\n",
       "      <td>20500</td>\n",
       "      <td>Gasolina</td>\n",
       "      <td>2023</td>\n",
       "      <td>1</td>\n",
       "      <td>83.0</td>\n",
       "      <td>Ávila</td>\n",
       "      <td>SUZUKI</td>\n",
       "    </tr>\n",
       "  </tbody>\n",
       "</table>\n",
       "<p>99304 rows × 7 columns</p>\n",
       "</div>"
      ],
      "text/plain": [
       "       Precio Combustible   Año      Km     CV  Provincia          Marca\n",
       "0        7999      Diésel  1993  293234  115.0   Zaragoza         NISSAN\n",
       "1       10990    Gasolina  1993  187000  320.0   Valencia  MERCEDES-BENZ\n",
       "2        5990    Gasolina  1993   80000  145.0     Madrid     MITSUBISHI\n",
       "3       79000    Gasolina  1993  169000  250.0  Barcelona        PORSCHE\n",
       "4        4950    Gasolina  1993  250000  109.0      Ávila  MERCEDES-BENZ\n",
       "...       ...         ...   ...     ...    ...        ...            ...\n",
       "99299  528000    Gasolina  2023     270  700.0     Murcia          ASTON\n",
       "99300  194000    Gasolina  2023      60  535.0     Murcia          ASTON\n",
       "99301   34900    Gasolina  2023      50  155.0    Vizcaya           FORD\n",
       "99302  219000    Gasolina  2023      90  535.0     Murcia          ASTON\n",
       "99303   20500    Gasolina  2023       1   83.0      Ávila         SUZUKI\n",
       "\n",
       "[99304 rows x 7 columns]"
      ]
     },
     "execution_count": 287,
     "metadata": {},
     "output_type": "execute_result"
    }
   ],
   "source": [
    "df = pd.read_csv(\"precio_coches_train.csv\")\n",
    "\n",
    "df"
   ]
  },
  {
   "cell_type": "code",
   "execution_count": 288,
   "id": "db64863d",
   "metadata": {},
   "outputs": [
    {
     "data": {
      "text/html": [
       "<div>\n",
       "<style scoped>\n",
       "    .dataframe tbody tr th:only-of-type {\n",
       "        vertical-align: middle;\n",
       "    }\n",
       "\n",
       "    .dataframe tbody tr th {\n",
       "        vertical-align: top;\n",
       "    }\n",
       "\n",
       "    .dataframe thead th {\n",
       "        text-align: right;\n",
       "    }\n",
       "</style>\n",
       "<table border=\"1\" class=\"dataframe\">\n",
       "  <thead>\n",
       "    <tr style=\"text-align: right;\">\n",
       "      <th></th>\n",
       "      <th>Precio</th>\n",
       "      <th>Año</th>\n",
       "      <th>Km</th>\n",
       "      <th>CV</th>\n",
       "    </tr>\n",
       "  </thead>\n",
       "  <tbody>\n",
       "    <tr>\n",
       "      <th>count</th>\n",
       "      <td>9.930400e+04</td>\n",
       "      <td>99304.000000</td>\n",
       "      <td>9.930400e+04</td>\n",
       "      <td>99044.000000</td>\n",
       "    </tr>\n",
       "    <tr>\n",
       "      <th>mean</th>\n",
       "      <td>3.406245e+04</td>\n",
       "      <td>2017.899299</td>\n",
       "      <td>7.292484e+04</td>\n",
       "      <td>166.660525</td>\n",
       "    </tr>\n",
       "    <tr>\n",
       "      <th>std</th>\n",
       "      <td>9.776664e+04</td>\n",
       "      <td>4.397941</td>\n",
       "      <td>6.402247e+04</td>\n",
       "      <td>270.486904</td>\n",
       "    </tr>\n",
       "    <tr>\n",
       "      <th>min</th>\n",
       "      <td>1.000000e+00</td>\n",
       "      <td>1993.000000</td>\n",
       "      <td>0.000000e+00</td>\n",
       "      <td>1.000000</td>\n",
       "    </tr>\n",
       "    <tr>\n",
       "      <th>25%</th>\n",
       "      <td>1.549900e+04</td>\n",
       "      <td>2017.000000</td>\n",
       "      <td>2.400000e+04</td>\n",
       "      <td>110.000000</td>\n",
       "    </tr>\n",
       "    <tr>\n",
       "      <th>50%</th>\n",
       "      <td>2.190000e+04</td>\n",
       "      <td>2019.000000</td>\n",
       "      <td>5.991900e+04</td>\n",
       "      <td>130.000000</td>\n",
       "    </tr>\n",
       "    <tr>\n",
       "      <th>75%</th>\n",
       "      <td>3.080000e+04</td>\n",
       "      <td>2021.000000</td>\n",
       "      <td>1.051770e+05</td>\n",
       "      <td>177.000000</td>\n",
       "    </tr>\n",
       "    <tr>\n",
       "      <th>max</th>\n",
       "      <td>6.800000e+06</td>\n",
       "      <td>2023.000000</td>\n",
       "      <td>3.280000e+06</td>\n",
       "      <td>63824.000000</td>\n",
       "    </tr>\n",
       "  </tbody>\n",
       "</table>\n",
       "</div>"
      ],
      "text/plain": [
       "             Precio           Año            Km            CV\n",
       "count  9.930400e+04  99304.000000  9.930400e+04  99044.000000\n",
       "mean   3.406245e+04   2017.899299  7.292484e+04    166.660525\n",
       "std    9.776664e+04      4.397941  6.402247e+04    270.486904\n",
       "min    1.000000e+00   1993.000000  0.000000e+00      1.000000\n",
       "25%    1.549900e+04   2017.000000  2.400000e+04    110.000000\n",
       "50%    2.190000e+04   2019.000000  5.991900e+04    130.000000\n",
       "75%    3.080000e+04   2021.000000  1.051770e+05    177.000000\n",
       "max    6.800000e+06   2023.000000  3.280000e+06  63824.000000"
      ]
     },
     "execution_count": 288,
     "metadata": {},
     "output_type": "execute_result"
    }
   ],
   "source": [
    "df.describe()"
   ]
  },
  {
   "cell_type": "code",
   "execution_count": 289,
   "id": "bb79c8c3",
   "metadata": {},
   "outputs": [
    {
     "name": "stdout",
     "output_type": "stream",
     "text": [
      "<class 'pandas.core.frame.DataFrame'>\n",
      "RangeIndex: 99304 entries, 0 to 99303\n",
      "Data columns (total 7 columns):\n",
      " #   Column       Non-Null Count  Dtype  \n",
      "---  ------       --------------  -----  \n",
      " 0   Precio       99304 non-null  int64  \n",
      " 1   Combustible  99304 non-null  object \n",
      " 2   Año          99304 non-null  int64  \n",
      " 3   Km           99304 non-null  int64  \n",
      " 4   CV           99044 non-null  float64\n",
      " 5   Provincia    99044 non-null  object \n",
      " 6   Marca        99304 non-null  object \n",
      "dtypes: float64(1), int64(3), object(3)\n",
      "memory usage: 5.3+ MB\n"
     ]
    }
   ],
   "source": [
    "df.info()"
   ]
  },
  {
   "cell_type": "code",
   "execution_count": 290,
   "id": "8a1ea812",
   "metadata": {},
   "outputs": [
    {
     "data": {
      "text/plain": [
       "<Axes: xlabel='Precio', ylabel='Count'>"
      ]
     },
     "execution_count": 290,
     "metadata": {},
     "output_type": "execute_result"
    },
    {
     "data": {
      "image/png": "[encoded data removed]",
      "text/plain": [
       "<Figure size 640x480 with 1 Axes>"
      ]
     },
     "metadata": {},
     "output_type": "display_data"
    }
   ],
   "source": [
    "sns.histplot(df[df[\"Precio\"].between(1000,150000)][\"Precio\"])\n"
   ]
  },
  {
   "cell_type": "code",
   "execution_count": 291,
   "id": "59f0ef34",
   "metadata": {},
   "outputs": [
    {
     "data": {
      "text/plain": [
       "(95631, 7)"
      ]
     },
     "execution_count": 291,
     "metadata": {},
     "output_type": "execute_result"
    }
   ],
   "source": [
    "df=df[df[\"Precio\"].between(1000,90000)]\n",
    "df.shape"
   ]
  },
  {
   "cell_type": "code",
   "execution_count": 292,
   "id": "8f29b22f",
   "metadata": {},
   "outputs": [
    {
     "data": {
      "text/plain": [
       "<Axes: xlabel='Año', ylabel='Count'>"
      ]
     },
     "execution_count": 292,
     "metadata": {},
     "output_type": "execute_result"
    },
    {
     "data": {
      "image/png": "[encoded data removed]",
      "text/plain": [
       "<Figure size 640x480 with 1 Axes>"
      ]
     },
     "metadata": {},
     "output_type": "display_data"
    }
   ],
   "source": [
    "sns.histplot(df[df[\"Año\"]>=2000][\"Año\"])"
   ]
  },
  {
   "cell_type": "code",
   "execution_count": 293,
   "id": "e077c2bf",
   "metadata": {},
   "outputs": [
    {
     "data": {
      "text/plain": [
       "(95175, 7)"
      ]
     },
     "execution_count": 293,
     "metadata": {},
     "output_type": "execute_result"
    }
   ],
   "source": [
    "df=df[df[\"Año\"]>=2000]\n",
    "df.shape"
   ]
  },
  {
   "cell_type": "code",
   "execution_count": 294,
   "id": "28349f23",
   "metadata": {
    "scrolled": true
   },
   "outputs": [
    {
     "data": {
      "text/plain": [
       "<Axes: xlabel='Km', ylabel='Count'>"
      ]
     },
     "execution_count": 294,
     "metadata": {},
     "output_type": "execute_result"
    },
    {
     "data": {
      "image/png": "[encoded data removed]",
      "text/plain": [
       "<Figure size 640x480 with 1 Axes>"
      ]
     },
     "metadata": {},
     "output_type": "display_data"
    }
   ],
   "source": [
    "sns.histplot(df[df[\"Km\"]<=400000][\"Km\"])"
   ]
  },
  {
   "cell_type": "code",
   "execution_count": 295,
   "id": "78dc435e",
   "metadata": {},
   "outputs": [
    {
     "data": {
      "text/plain": [
       "(93821, 7)"
      ]
     },
     "execution_count": 295,
     "metadata": {},
     "output_type": "execute_result"
    }
   ],
   "source": [
    "df=df[df[\"Km\"]<=250000]\n",
    "df.shape"
   ]
  },
  {
   "cell_type": "code",
   "execution_count": 296,
   "id": "72272d97",
   "metadata": {
    "scrolled": true
   },
   "outputs": [
    {
     "data": {
      "text/plain": [
       "<Axes: xlabel='CV', ylabel='Count'>"
      ]
     },
     "execution_count": 296,
     "metadata": {},
     "output_type": "execute_result"
    },
    {
     "data": {
      "image/png": "[encoded data removed]",
      "text/plain": [
       "<Figure size 640x480 with 1 Axes>"
      ]
     },
     "metadata": {},
     "output_type": "display_data"
    }
   ],
   "source": [
    "sns.histplot(df[df[\"CV\"].between(60,375)][\"CV\"])"
   ]
  },
  {
   "cell_type": "code",
   "execution_count": 297,
   "id": "ed70750c",
   "metadata": {},
   "outputs": [
    {
     "data": {
      "text/plain": [
       "(91062, 7)"
      ]
     },
     "execution_count": 297,
     "metadata": {},
     "output_type": "execute_result"
    }
   ],
   "source": [
    "df=df[df[\"CV\"].between(60,350)]\n",
    "df.shape"
   ]
  },
  {
   "cell_type": "code",
   "execution_count": 298,
   "id": "9b7c9c98",
   "metadata": {},
   "outputs": [
    {
     "data": {
      "text/plain": [
       "Precio         0\n",
       "Combustible    0\n",
       "Año            0\n",
       "Km             0\n",
       "CV             0\n",
       "Provincia      0\n",
       "Marca          0\n",
       "dtype: int64"
      ]
     },
     "execution_count": 298,
     "metadata": {},
     "output_type": "execute_result"
    }
   ],
   "source": [
    "df.isnull().sum()"
   ]
  },
  {
   "cell_type": "code",
   "execution_count": 299,
   "id": "faba6e6d",
   "metadata": {},
   "outputs": [],
   "source": [
    "from sklearn.preprocessing import LabelEncoder\n"
   ]
  },
  {
   "cell_type": "code",
   "execution_count": 300,
   "id": "33e1a21b",
   "metadata": {},
   "outputs": [
    {
     "data": {
      "text/html": [
       "<div>\n",
       "<style scoped>\n",
       "    .dataframe tbody tr th:only-of-type {\n",
       "        vertical-align: middle;\n",
       "    }\n",
       "\n",
       "    .dataframe tbody tr th {\n",
       "        vertical-align: top;\n",
       "    }\n",
       "\n",
       "    .dataframe thead th {\n",
       "        text-align: right;\n",
       "    }\n",
       "</style>\n",
       "<table border=\"1\" class=\"dataframe\">\n",
       "  <thead>\n",
       "    <tr style=\"text-align: right;\">\n",
       "      <th></th>\n",
       "      <th>Precio</th>\n",
       "      <th>Combustible</th>\n",
       "      <th>Año</th>\n",
       "      <th>Km</th>\n",
       "      <th>CV</th>\n",
       "      <th>Provincia</th>\n",
       "      <th>Marca</th>\n",
       "    </tr>\n",
       "  </thead>\n",
       "  <tbody>\n",
       "    <tr>\n",
       "      <th>70</th>\n",
       "      <td>3590</td>\n",
       "      <td>Gasolina</td>\n",
       "      <td>2000</td>\n",
       "      <td>156624</td>\n",
       "      <td>163.0</td>\n",
       "      <td>34</td>\n",
       "      <td>MERCEDES-BENZ</td>\n",
       "    </tr>\n",
       "    <tr>\n",
       "      <th>72</th>\n",
       "      <td>3499</td>\n",
       "      <td>Gasolina</td>\n",
       "      <td>2000</td>\n",
       "      <td>190000</td>\n",
       "      <td>102.0</td>\n",
       "      <td>31</td>\n",
       "      <td>VOLKSWAGEN</td>\n",
       "    </tr>\n",
       "    <tr>\n",
       "      <th>73</th>\n",
       "      <td>2490</td>\n",
       "      <td>Gasolina</td>\n",
       "      <td>2000</td>\n",
       "      <td>170000</td>\n",
       "      <td>122.0</td>\n",
       "      <td>46</td>\n",
       "      <td>VOLVO</td>\n",
       "    </tr>\n",
       "    <tr>\n",
       "      <th>76</th>\n",
       "      <td>9990</td>\n",
       "      <td>Gasolina</td>\n",
       "      <td>2000</td>\n",
       "      <td>210500</td>\n",
       "      <td>204.0</td>\n",
       "      <td>29</td>\n",
       "      <td>PORSCHE</td>\n",
       "    </tr>\n",
       "    <tr>\n",
       "      <th>78</th>\n",
       "      <td>7900</td>\n",
       "      <td>Gasolina</td>\n",
       "      <td>2000</td>\n",
       "      <td>106255</td>\n",
       "      <td>240.0</td>\n",
       "      <td>29</td>\n",
       "      <td>JAGUAR</td>\n",
       "    </tr>\n",
       "    <tr>\n",
       "      <th>...</th>\n",
       "      <td>...</td>\n",
       "      <td>...</td>\n",
       "      <td>...</td>\n",
       "      <td>...</td>\n",
       "      <td>...</td>\n",
       "      <td>...</td>\n",
       "      <td>...</td>\n",
       "    </tr>\n",
       "    <tr>\n",
       "      <th>99293</th>\n",
       "      <td>25500</td>\n",
       "      <td>Gasolina</td>\n",
       "      <td>2023</td>\n",
       "      <td>1</td>\n",
       "      <td>129.0</td>\n",
       "      <td>50</td>\n",
       "      <td>SUZUKI</td>\n",
       "    </tr>\n",
       "    <tr>\n",
       "      <th>99294</th>\n",
       "      <td>24990</td>\n",
       "      <td>Híbrido</td>\n",
       "      <td>2023</td>\n",
       "      <td>1378</td>\n",
       "      <td>122.0</td>\n",
       "      <td>29</td>\n",
       "      <td>TOYOTA</td>\n",
       "    </tr>\n",
       "    <tr>\n",
       "      <th>99296</th>\n",
       "      <td>29900</td>\n",
       "      <td>Gasolina</td>\n",
       "      <td>2023</td>\n",
       "      <td>50</td>\n",
       "      <td>125.0</td>\n",
       "      <td>46</td>\n",
       "      <td>FORD</td>\n",
       "    </tr>\n",
       "    <tr>\n",
       "      <th>99301</th>\n",
       "      <td>34900</td>\n",
       "      <td>Gasolina</td>\n",
       "      <td>2023</td>\n",
       "      <td>50</td>\n",
       "      <td>155.0</td>\n",
       "      <td>46</td>\n",
       "      <td>FORD</td>\n",
       "    </tr>\n",
       "    <tr>\n",
       "      <th>99303</th>\n",
       "      <td>20500</td>\n",
       "      <td>Gasolina</td>\n",
       "      <td>2023</td>\n",
       "      <td>1</td>\n",
       "      <td>83.0</td>\n",
       "      <td>50</td>\n",
       "      <td>SUZUKI</td>\n",
       "    </tr>\n",
       "  </tbody>\n",
       "</table>\n",
       "<p>91062 rows × 7 columns</p>\n",
       "</div>"
      ],
      "text/plain": [
       "       Precio Combustible   Año      Km     CV  Provincia          Marca\n",
       "70       3590    Gasolina  2000  156624  163.0         34  MERCEDES-BENZ\n",
       "72       3499    Gasolina  2000  190000  102.0         31     VOLKSWAGEN\n",
       "73       2490    Gasolina  2000  170000  122.0         46          VOLVO\n",
       "76       9990    Gasolina  2000  210500  204.0         29        PORSCHE\n",
       "78       7900    Gasolina  2000  106255  240.0         29         JAGUAR\n",
       "...       ...         ...   ...     ...    ...        ...            ...\n",
       "99293   25500    Gasolina  2023       1  129.0         50         SUZUKI\n",
       "99294   24990     Híbrido  2023    1378  122.0         29         TOYOTA\n",
       "99296   29900    Gasolina  2023      50  125.0         46           FORD\n",
       "99301   34900    Gasolina  2023      50  155.0         46           FORD\n",
       "99303   20500    Gasolina  2023       1   83.0         50         SUZUKI\n",
       "\n",
       "[91062 rows x 7 columns]"
      ]
     },
     "execution_count": 300,
     "metadata": {},
     "output_type": "execute_result"
    }
   ],
   "source": [
    "prov_labelEncoding=LabelEncoder()\n",
    "prov = prov_labelEncoding.fit_transform(df[\"Provincia\"]) # En este ejemplo estoy usando fit_transform()\n",
    "\n",
    "df[\"Provincia\"] = prov\n",
    "\n",
    "df"
   ]
  },
  {
   "cell_type": "code",
   "execution_count": 301,
   "id": "f978f891",
   "metadata": {},
   "outputs": [],
   "source": [
    "comb_labelEncoding=LabelEncoder()"
   ]
  },
  {
   "cell_type": "code",
   "execution_count": 302,
   "id": "6d509b76",
   "metadata": {},
   "outputs": [
    {
     "data": {
      "text/html": [
       "<div>\n",
       "<style scoped>\n",
       "    .dataframe tbody tr th:only-of-type {\n",
       "        vertical-align: middle;\n",
       "    }\n",
       "\n",
       "    .dataframe tbody tr th {\n",
       "        vertical-align: top;\n",
       "    }\n",
       "\n",
       "    .dataframe thead th {\n",
       "        text-align: right;\n",
       "    }\n",
       "</style>\n",
       "<table border=\"1\" class=\"dataframe\">\n",
       "  <thead>\n",
       "    <tr style=\"text-align: right;\">\n",
       "      <th></th>\n",
       "      <th>Precio</th>\n",
       "      <th>Combustible</th>\n",
       "      <th>Año</th>\n",
       "      <th>Km</th>\n",
       "      <th>CV</th>\n",
       "      <th>Provincia</th>\n",
       "      <th>Marca</th>\n",
       "    </tr>\n",
       "  </thead>\n",
       "  <tbody>\n",
       "    <tr>\n",
       "      <th>70</th>\n",
       "      <td>3590</td>\n",
       "      <td>3</td>\n",
       "      <td>2000</td>\n",
       "      <td>156624</td>\n",
       "      <td>163.0</td>\n",
       "      <td>34</td>\n",
       "      <td>MERCEDES-BENZ</td>\n",
       "    </tr>\n",
       "    <tr>\n",
       "      <th>72</th>\n",
       "      <td>3499</td>\n",
       "      <td>3</td>\n",
       "      <td>2000</td>\n",
       "      <td>190000</td>\n",
       "      <td>102.0</td>\n",
       "      <td>31</td>\n",
       "      <td>VOLKSWAGEN</td>\n",
       "    </tr>\n",
       "    <tr>\n",
       "      <th>73</th>\n",
       "      <td>2490</td>\n",
       "      <td>3</td>\n",
       "      <td>2000</td>\n",
       "      <td>170000</td>\n",
       "      <td>122.0</td>\n",
       "      <td>46</td>\n",
       "      <td>VOLVO</td>\n",
       "    </tr>\n",
       "    <tr>\n",
       "      <th>76</th>\n",
       "      <td>9990</td>\n",
       "      <td>3</td>\n",
       "      <td>2000</td>\n",
       "      <td>210500</td>\n",
       "      <td>204.0</td>\n",
       "      <td>29</td>\n",
       "      <td>PORSCHE</td>\n",
       "    </tr>\n",
       "    <tr>\n",
       "      <th>78</th>\n",
       "      <td>7900</td>\n",
       "      <td>3</td>\n",
       "      <td>2000</td>\n",
       "      <td>106255</td>\n",
       "      <td>240.0</td>\n",
       "      <td>29</td>\n",
       "      <td>JAGUAR</td>\n",
       "    </tr>\n",
       "    <tr>\n",
       "      <th>...</th>\n",
       "      <td>...</td>\n",
       "      <td>...</td>\n",
       "      <td>...</td>\n",
       "      <td>...</td>\n",
       "      <td>...</td>\n",
       "      <td>...</td>\n",
       "      <td>...</td>\n",
       "    </tr>\n",
       "    <tr>\n",
       "      <th>99293</th>\n",
       "      <td>25500</td>\n",
       "      <td>3</td>\n",
       "      <td>2023</td>\n",
       "      <td>1</td>\n",
       "      <td>129.0</td>\n",
       "      <td>50</td>\n",
       "      <td>SUZUKI</td>\n",
       "    </tr>\n",
       "    <tr>\n",
       "      <th>99294</th>\n",
       "      <td>24990</td>\n",
       "      <td>4</td>\n",
       "      <td>2023</td>\n",
       "      <td>1378</td>\n",
       "      <td>122.0</td>\n",
       "      <td>29</td>\n",
       "      <td>TOYOTA</td>\n",
       "    </tr>\n",
       "    <tr>\n",
       "      <th>99296</th>\n",
       "      <td>29900</td>\n",
       "      <td>3</td>\n",
       "      <td>2023</td>\n",
       "      <td>50</td>\n",
       "      <td>125.0</td>\n",
       "      <td>46</td>\n",
       "      <td>FORD</td>\n",
       "    </tr>\n",
       "    <tr>\n",
       "      <th>99301</th>\n",
       "      <td>34900</td>\n",
       "      <td>3</td>\n",
       "      <td>2023</td>\n",
       "      <td>50</td>\n",
       "      <td>155.0</td>\n",
       "      <td>46</td>\n",
       "      <td>FORD</td>\n",
       "    </tr>\n",
       "    <tr>\n",
       "      <th>99303</th>\n",
       "      <td>20500</td>\n",
       "      <td>3</td>\n",
       "      <td>2023</td>\n",
       "      <td>1</td>\n",
       "      <td>83.0</td>\n",
       "      <td>50</td>\n",
       "      <td>SUZUKI</td>\n",
       "    </tr>\n",
       "  </tbody>\n",
       "</table>\n",
       "<p>91062 rows × 7 columns</p>\n",
       "</div>"
      ],
      "text/plain": [
       "       Precio  Combustible   Año      Km     CV  Provincia          Marca\n",
       "70       3590            3  2000  156624  163.0         34  MERCEDES-BENZ\n",
       "72       3499            3  2000  190000  102.0         31     VOLKSWAGEN\n",
       "73       2490            3  2000  170000  122.0         46          VOLVO\n",
       "76       9990            3  2000  210500  204.0         29        PORSCHE\n",
       "78       7900            3  2000  106255  240.0         29         JAGUAR\n",
       "...       ...          ...   ...     ...    ...        ...            ...\n",
       "99293   25500            3  2023       1  129.0         50         SUZUKI\n",
       "99294   24990            4  2023    1378  122.0         29         TOYOTA\n",
       "99296   29900            3  2023      50  125.0         46           FORD\n",
       "99301   34900            3  2023      50  155.0         46           FORD\n",
       "99303   20500            3  2023       1   83.0         50         SUZUKI\n",
       "\n",
       "[91062 rows x 7 columns]"
      ]
     },
     "execution_count": 302,
     "metadata": {},
     "output_type": "execute_result"
    }
   ],
   "source": [
    "comb = comb_labelEncoding.fit_transform(df[\"Combustible\"]) # En este ejemplo estoy usando fit_transform()\n",
    "\n",
    "df[\"Combustible\"] = comb\n",
    "\n",
    "df"
   ]
  },
  {
   "cell_type": "code",
   "execution_count": 303,
   "id": "0977da22",
   "metadata": {},
   "outputs": [],
   "source": [
    "marca_labelEncoding=LabelEncoder()"
   ]
  },
  {
   "cell_type": "code",
   "execution_count": 304,
   "id": "da14506a",
   "metadata": {},
   "outputs": [
    {
     "data": {
      "text/html": [
       "<div>\n",
       "<style scoped>\n",
       "    .dataframe tbody tr th:only-of-type {\n",
       "        vertical-align: middle;\n",
       "    }\n",
       "\n",
       "    .dataframe tbody tr th {\n",
       "        vertical-align: top;\n",
       "    }\n",
       "\n",
       "    .dataframe thead th {\n",
       "        text-align: right;\n",
       "    }\n",
       "</style>\n",
       "<table border=\"1\" class=\"dataframe\">\n",
       "  <thead>\n",
       "    <tr style=\"text-align: right;\">\n",
       "      <th></th>\n",
       "      <th>Precio</th>\n",
       "      <th>Combustible</th>\n",
       "      <th>Año</th>\n",
       "      <th>Km</th>\n",
       "      <th>CV</th>\n",
       "      <th>Provincia</th>\n",
       "      <th>Marca</th>\n",
       "    </tr>\n",
       "  </thead>\n",
       "  <tbody>\n",
       "    <tr>\n",
       "      <th>70</th>\n",
       "      <td>3590</td>\n",
       "      <td>3</td>\n",
       "      <td>2000</td>\n",
       "      <td>156624</td>\n",
       "      <td>163.0</td>\n",
       "      <td>34</td>\n",
       "      <td>41</td>\n",
       "    </tr>\n",
       "    <tr>\n",
       "      <th>72</th>\n",
       "      <td>3499</td>\n",
       "      <td>3</td>\n",
       "      <td>2000</td>\n",
       "      <td>190000</td>\n",
       "      <td>102.0</td>\n",
       "      <td>31</td>\n",
       "      <td>66</td>\n",
       "    </tr>\n",
       "    <tr>\n",
       "      <th>73</th>\n",
       "      <td>2490</td>\n",
       "      <td>3</td>\n",
       "      <td>2000</td>\n",
       "      <td>170000</td>\n",
       "      <td>122.0</td>\n",
       "      <td>46</td>\n",
       "      <td>67</td>\n",
       "    </tr>\n",
       "    <tr>\n",
       "      <th>76</th>\n",
       "      <td>9990</td>\n",
       "      <td>3</td>\n",
       "      <td>2000</td>\n",
       "      <td>210500</td>\n",
       "      <td>204.0</td>\n",
       "      <td>29</td>\n",
       "      <td>51</td>\n",
       "    </tr>\n",
       "    <tr>\n",
       "      <th>78</th>\n",
       "      <td>7900</td>\n",
       "      <td>3</td>\n",
       "      <td>2000</td>\n",
       "      <td>106255</td>\n",
       "      <td>240.0</td>\n",
       "      <td>29</td>\n",
       "      <td>27</td>\n",
       "    </tr>\n",
       "    <tr>\n",
       "      <th>...</th>\n",
       "      <td>...</td>\n",
       "      <td>...</td>\n",
       "      <td>...</td>\n",
       "      <td>...</td>\n",
       "      <td>...</td>\n",
       "      <td>...</td>\n",
       "      <td>...</td>\n",
       "    </tr>\n",
       "    <tr>\n",
       "      <th>99293</th>\n",
       "      <td>25500</td>\n",
       "      <td>3</td>\n",
       "      <td>2023</td>\n",
       "      <td>1</td>\n",
       "      <td>129.0</td>\n",
       "      <td>50</td>\n",
       "      <td>61</td>\n",
       "    </tr>\n",
       "    <tr>\n",
       "      <th>99294</th>\n",
       "      <td>24990</td>\n",
       "      <td>4</td>\n",
       "      <td>2023</td>\n",
       "      <td>1378</td>\n",
       "      <td>122.0</td>\n",
       "      <td>29</td>\n",
       "      <td>65</td>\n",
       "    </tr>\n",
       "    <tr>\n",
       "      <th>99296</th>\n",
       "      <td>29900</td>\n",
       "      <td>3</td>\n",
       "      <td>2023</td>\n",
       "      <td>50</td>\n",
       "      <td>125.0</td>\n",
       "      <td>46</td>\n",
       "      <td>18</td>\n",
       "    </tr>\n",
       "    <tr>\n",
       "      <th>99301</th>\n",
       "      <td>34900</td>\n",
       "      <td>3</td>\n",
       "      <td>2023</td>\n",
       "      <td>50</td>\n",
       "      <td>155.0</td>\n",
       "      <td>46</td>\n",
       "      <td>18</td>\n",
       "    </tr>\n",
       "    <tr>\n",
       "      <th>99303</th>\n",
       "      <td>20500</td>\n",
       "      <td>3</td>\n",
       "      <td>2023</td>\n",
       "      <td>1</td>\n",
       "      <td>83.0</td>\n",
       "      <td>50</td>\n",
       "      <td>61</td>\n",
       "    </tr>\n",
       "  </tbody>\n",
       "</table>\n",
       "<p>91062 rows × 7 columns</p>\n",
       "</div>"
      ],
      "text/plain": [
       "       Precio  Combustible   Año      Km     CV  Provincia  Marca\n",
       "70       3590            3  2000  156624  163.0         34     41\n",
       "72       3499            3  2000  190000  102.0         31     66\n",
       "73       2490            3  2000  170000  122.0         46     67\n",
       "76       9990            3  2000  210500  204.0         29     51\n",
       "78       7900            3  2000  106255  240.0         29     27\n",
       "...       ...          ...   ...     ...    ...        ...    ...\n",
       "99293   25500            3  2023       1  129.0         50     61\n",
       "99294   24990            4  2023    1378  122.0         29     65\n",
       "99296   29900            3  2023      50  125.0         46     18\n",
       "99301   34900            3  2023      50  155.0         46     18\n",
       "99303   20500            3  2023       1   83.0         50     61\n",
       "\n",
       "[91062 rows x 7 columns]"
      ]
     },
     "execution_count": 304,
     "metadata": {},
     "output_type": "execute_result"
    }
   ],
   "source": [
    "marca = marca_labelEncoding.fit_transform(df[\"Marca\"]) # En este ejemplo estoy usando fit_transform()\n",
    "\n",
    "df[\"Marca\"] = marca\n",
    "\n",
    "df"
   ]
  },
  {
   "cell_type": "code",
   "execution_count": 305,
   "id": "e41c884d",
   "metadata": {},
   "outputs": [],
   "source": [
    "#separamos columnas\n",
    "# Ahora vamos a separar la columna \"objetivo\" del resto de columnas\n",
    "df_precio=df[\"Precio\"].copy()\n",
    "# Como ya tenemos la columna \"objetivo\" en otra variable vamos a eliminarla del DataFrame original\n",
    "df.drop(\"Precio\", axis=1 , inplace= True)"
   ]
  },
  {
   "cell_type": "code",
   "execution_count": 306,
   "id": "fbfae2cc",
   "metadata": {},
   "outputs": [
    {
     "data": {
      "text/html": [
       "<div>\n",
       "<style scoped>\n",
       "    .dataframe tbody tr th:only-of-type {\n",
       "        vertical-align: middle;\n",
       "    }\n",
       "\n",
       "    .dataframe tbody tr th {\n",
       "        vertical-align: top;\n",
       "    }\n",
       "\n",
       "    .dataframe thead th {\n",
       "        text-align: right;\n",
       "    }\n",
       "</style>\n",
       "<table border=\"1\" class=\"dataframe\">\n",
       "  <thead>\n",
       "    <tr style=\"text-align: right;\">\n",
       "      <th></th>\n",
       "      <th>Combustible</th>\n",
       "      <th>Año</th>\n",
       "      <th>Km</th>\n",
       "      <th>CV</th>\n",
       "      <th>Provincia</th>\n",
       "      <th>Marca</th>\n",
       "    </tr>\n",
       "  </thead>\n",
       "  <tbody>\n",
       "    <tr>\n",
       "      <th>70</th>\n",
       "      <td>3</td>\n",
       "      <td>2000</td>\n",
       "      <td>156624</td>\n",
       "      <td>163.0</td>\n",
       "      <td>34</td>\n",
       "      <td>41</td>\n",
       "    </tr>\n",
       "    <tr>\n",
       "      <th>72</th>\n",
       "      <td>3</td>\n",
       "      <td>2000</td>\n",
       "      <td>190000</td>\n",
       "      <td>102.0</td>\n",
       "      <td>31</td>\n",
       "      <td>66</td>\n",
       "    </tr>\n",
       "    <tr>\n",
       "      <th>73</th>\n",
       "      <td>3</td>\n",
       "      <td>2000</td>\n",
       "      <td>170000</td>\n",
       "      <td>122.0</td>\n",
       "      <td>46</td>\n",
       "      <td>67</td>\n",
       "    </tr>\n",
       "    <tr>\n",
       "      <th>76</th>\n",
       "      <td>3</td>\n",
       "      <td>2000</td>\n",
       "      <td>210500</td>\n",
       "      <td>204.0</td>\n",
       "      <td>29</td>\n",
       "      <td>51</td>\n",
       "    </tr>\n",
       "    <tr>\n",
       "      <th>78</th>\n",
       "      <td>3</td>\n",
       "      <td>2000</td>\n",
       "      <td>106255</td>\n",
       "      <td>240.0</td>\n",
       "      <td>29</td>\n",
       "      <td>27</td>\n",
       "    </tr>\n",
       "    <tr>\n",
       "      <th>...</th>\n",
       "      <td>...</td>\n",
       "      <td>...</td>\n",
       "      <td>...</td>\n",
       "      <td>...</td>\n",
       "      <td>...</td>\n",
       "      <td>...</td>\n",
       "    </tr>\n",
       "    <tr>\n",
       "      <th>99293</th>\n",
       "      <td>3</td>\n",
       "      <td>2023</td>\n",
       "      <td>1</td>\n",
       "      <td>129.0</td>\n",
       "      <td>50</td>\n",
       "      <td>61</td>\n",
       "    </tr>\n",
       "    <tr>\n",
       "      <th>99294</th>\n",
       "      <td>4</td>\n",
       "      <td>2023</td>\n",
       "      <td>1378</td>\n",
       "      <td>122.0</td>\n",
       "      <td>29</td>\n",
       "      <td>65</td>\n",
       "    </tr>\n",
       "    <tr>\n",
       "      <th>99296</th>\n",
       "      <td>3</td>\n",
       "      <td>2023</td>\n",
       "      <td>50</td>\n",
       "      <td>125.0</td>\n",
       "      <td>46</td>\n",
       "      <td>18</td>\n",
       "    </tr>\n",
       "    <tr>\n",
       "      <th>99301</th>\n",
       "      <td>3</td>\n",
       "      <td>2023</td>\n",
       "      <td>50</td>\n",
       "      <td>155.0</td>\n",
       "      <td>46</td>\n",
       "      <td>18</td>\n",
       "    </tr>\n",
       "    <tr>\n",
       "      <th>99303</th>\n",
       "      <td>3</td>\n",
       "      <td>2023</td>\n",
       "      <td>1</td>\n",
       "      <td>83.0</td>\n",
       "      <td>50</td>\n",
       "      <td>61</td>\n",
       "    </tr>\n",
       "  </tbody>\n",
       "</table>\n",
       "<p>91062 rows × 6 columns</p>\n",
       "</div>"
      ],
      "text/plain": [
       "       Combustible   Año      Km     CV  Provincia  Marca\n",
       "70               3  2000  156624  163.0         34     41\n",
       "72               3  2000  190000  102.0         31     66\n",
       "73               3  2000  170000  122.0         46     67\n",
       "76               3  2000  210500  204.0         29     51\n",
       "78               3  2000  106255  240.0         29     27\n",
       "...            ...   ...     ...    ...        ...    ...\n",
       "99293            3  2023       1  129.0         50     61\n",
       "99294            4  2023    1378  122.0         29     65\n",
       "99296            3  2023      50  125.0         46     18\n",
       "99301            3  2023      50  155.0         46     18\n",
       "99303            3  2023       1   83.0         50     61\n",
       "\n",
       "[91062 rows x 6 columns]"
      ]
     },
     "execution_count": 306,
     "metadata": {},
     "output_type": "execute_result"
    }
   ],
   "source": [
    "df"
   ]
  },
  {
   "cell_type": "code",
   "execution_count": 307,
   "id": "bc52314f",
   "metadata": {
    "scrolled": true
   },
   "outputs": [
    {
     "name": "stdout",
     "output_type": "stream",
     "text": [
      "[[6.00000000e-01 0.00000000e+00 6.26496000e-01 3.55172414e-01\n",
      "  6.80000000e-01 6.11940299e-01]\n",
      " [6.00000000e-01 0.00000000e+00 7.60000000e-01 1.44827586e-01\n",
      "  6.20000000e-01 9.85074627e-01]\n",
      " [6.00000000e-01 0.00000000e+00 6.80000000e-01 2.13793103e-01\n",
      "  9.20000000e-01 1.00000000e+00]\n",
      " ...\n",
      " [6.00000000e-01 1.00000000e+00 2.00000000e-04 2.24137931e-01\n",
      "  9.20000000e-01 2.68656716e-01]\n",
      " [6.00000000e-01 1.00000000e+00 2.00000000e-04 3.27586207e-01\n",
      "  9.20000000e-01 2.68656716e-01]\n",
      " [6.00000000e-01 1.00000000e+00 4.00000000e-06 7.93103448e-02\n",
      "  1.00000000e+00 9.10447761e-01]]\n"
     ]
    }
   ],
   "source": [
    "#normalizacion de datos\n",
    "\n",
    "from sklearn.preprocessing import MinMaxScaler\n",
    "\n",
    "x_scaler = MinMaxScaler()\n",
    "\n",
    "X = x_scaler.fit_transform(df)\n",
    "\n",
    "print(X)"
   ]
  },
  {
   "cell_type": "code",
   "execution_count": 308,
   "id": "67aa5a87",
   "metadata": {},
   "outputs": [],
   "source": [
    "df_precioDF=pd.DataFrame(df_precio)"
   ]
  },
  {
   "cell_type": "code",
   "execution_count": 309,
   "id": "c1bc22a9",
   "metadata": {
    "scrolled": true
   },
   "outputs": [
    {
     "name": "stdout",
     "output_type": "stream",
     "text": [
      "[[0.02910112]\n",
      " [0.02807865]\n",
      " [0.01674157]\n",
      " ...\n",
      " [0.3247191 ]\n",
      " [0.38089888]\n",
      " [0.21910112]]\n"
     ]
    }
   ],
   "source": [
    "y_scaler = MinMaxScaler()\n",
    "\n",
    "Y = y_scaler.fit_transform(df_precioDF)\n",
    "\n",
    "print(Y)"
   ]
  },
  {
   "cell_type": "code",
   "execution_count": 310,
   "id": "a5b0faf5",
   "metadata": {},
   "outputs": [],
   "source": [
    "from sklearn.model_selection import train_test_split"
   ]
  },
  {
   "cell_type": "code",
   "execution_count": 311,
   "id": "b2b2efa0",
   "metadata": {},
   "outputs": [
    {
     "name": "stdout",
     "output_type": "stream",
     "text": [
      "Conjunto de Train: ((72849, 6), (72849, 1))\n",
      "Conjunto de Test: ((18213, 6), (18213, 1))\n"
     ]
    }
   ],
   "source": [
    "#TRAIN TEST\n",
    "X_train, X_test, y_train, y_test = train_test_split(X, Y, test_size = 0.20, random_state = 42)\n",
    "\n",
    "print(f\"Conjunto de Train: {X_train.shape, y_train.shape}\")\n",
    "print(f\"Conjunto de Test: {X_test.shape, y_test.shape}\")"
   ]
  },
  {
   "cell_type": "code",
   "execution_count": 312,
   "id": "bcdd2590",
   "metadata": {},
   "outputs": [
    {
     "name": "stdout",
     "output_type": "stream",
     "text": [
      "weights: [[-6.89761336e-02  2.47512643e-01 -1.92512711e-01  5.39760783e-01\n",
      "  -6.88024015e-03  5.27689916e-04]]\n",
      "w_0: [-0.01451355]\n"
     ]
    }
   ],
   "source": [
    "#ALGORITMO DE REGRESION LINEAL\n",
    "\n",
    "regresion_lineal = LinearRegression()\n",
    "regresion_lineal.fit(X_train, y_train)\n",
    "\n",
    "# Encontramos los coeficientes de la recta  \n",
    "print (\"weights:\", regresion_lineal.coef_)\n",
    "print (\"w_0:\", regresion_lineal.intercept_)\n"
   ]
  },
  {
   "cell_type": "code",
   "execution_count": 313,
   "id": "833ab05e",
   "metadata": {},
   "outputs": [
    {
     "name": "stdout",
     "output_type": "stream",
     "text": [
      "Predicción:[0.33636796] \tValor real:[0.35393258]\n",
      "Predicción:[0.16528974] \tValor real:[0.13932584]\n",
      "Predicción:[0.33227281] \tValor real:[0.30224719]\n",
      "Predicción:[0.40031839] \tValor real:[0.32011236]\n",
      "Predicción:[0.35214076] \tValor real:[0.38089888]\n"
     ]
    }
   ],
   "source": [
    "#PREDICCIONES\n",
    "yhat = regresion_lineal.predict(X_test)\n",
    "\n",
    "for i, j in zip(yhat[:5], y_test[:5]):\n",
    "    print(f\"Predicción:{i} \\tValor real:{j}\")\n"
   ]
  },
  {
   "cell_type": "code",
   "execution_count": 314,
   "id": "d5cb9b93",
   "metadata": {},
   "outputs": [],
   "source": [
    "from sklearn.metrics import mean_absolute_error, mean_squared_error, r2_score"
   ]
  },
  {
   "cell_type": "code",
   "execution_count": 315,
   "id": "6a09bc78",
   "metadata": {},
   "outputs": [
    {
     "name": "stdout",
     "output_type": "stream",
     "text": [
      "0.047530031307592015\n",
      "0.004681233972869007\n",
      "0.7531181701426042\n"
     ]
    }
   ],
   "source": [
    "mae = mean_absolute_error(y_test, yhat)\n",
    "mse = mean_squared_error(y_test, yhat)\n",
    "r2 = r2_score(y_test, yhat)\n",
    "\n",
    "print(mae)\n",
    "print(mse)\n",
    "print(r2)"
   ]
  },
  {
   "cell_type": "code",
   "execution_count": 327,
   "id": "f9dda07a",
   "metadata": {},
   "outputs": [
    {
     "data": {
      "text/html": [
       "<style>#sk-container-id-9 {color: black;background-color: white;}#sk-container-id-9 pre{padding: 0;}#sk-container-id-9 div.sk-toggleable {background-color: white;}#sk-container-id-9 label.sk-toggleable__label {cursor: pointer;display: block;width: 100%;margin-bottom: 0;padding: 0.3em;box-sizing: border-box;text-align: center;}#sk-container-id-9 label.sk-toggleable__label-arrow:before {content: \"▸\";float: left;margin-right: 0.25em;color: #696969;}#sk-container-id-9 label.sk-toggleable__label-arrow:hover:before {color: black;}#sk-container-id-9 div.sk-estimator:hover label.sk-toggleable__label-arrow:before {color: black;}#sk-container-id-9 div.sk-toggleable__content {max-height: 0;max-width: 0;overflow: hidden;text-align: left;background-color: #f0f8ff;}#sk-container-id-9 div.sk-toggleable__content pre {margin: 0.2em;color: black;border-radius: 0.25em;background-color: #f0f8ff;}#sk-container-id-9 input.sk-toggleable__control:checked~div.sk-toggleable__content {max-height: 200px;max-width: 100%;overflow: auto;}#sk-container-id-9 input.sk-toggleable__control:checked~label.sk-toggleable__label-arrow:before {content: \"▾\";}#sk-container-id-9 div.sk-estimator input.sk-toggleable__control:checked~label.sk-toggleable__label {background-color: #d4ebff;}#sk-container-id-9 div.sk-label input.sk-toggleable__control:checked~label.sk-toggleable__label {background-color: #d4ebff;}#sk-container-id-9 input.sk-hidden--visually {border: 0;clip: rect(1px 1px 1px 1px);clip: rect(1px, 1px, 1px, 1px);height: 1px;margin: -1px;overflow: hidden;padding: 0;position: absolute;width: 1px;}#sk-container-id-9 div.sk-estimator {font-family: monospace;background-color: #f0f8ff;border: 1px dotted black;border-radius: 0.25em;box-sizing: border-box;margin-bottom: 0.5em;}#sk-container-id-9 div.sk-estimator:hover {background-color: #d4ebff;}#sk-container-id-9 div.sk-parallel-item::after {content: \"\";width: 100%;border-bottom: 1px solid gray;flex-grow: 1;}#sk-container-id-9 div.sk-label:hover label.sk-toggleable__label {background-color: #d4ebff;}#sk-container-id-9 div.sk-serial::before {content: \"\";position: absolute;border-left: 1px solid gray;box-sizing: border-box;top: 0;bottom: 0;left: 50%;z-index: 0;}#sk-container-id-9 div.sk-serial {display: flex;flex-direction: column;align-items: center;background-color: white;padding-right: 0.2em;padding-left: 0.2em;position: relative;}#sk-container-id-9 div.sk-item {position: relative;z-index: 1;}#sk-container-id-9 div.sk-parallel {display: flex;align-items: stretch;justify-content: center;background-color: white;position: relative;}#sk-container-id-9 div.sk-item::before, #sk-container-id-9 div.sk-parallel-item::before {content: \"\";position: absolute;border-left: 1px solid gray;box-sizing: border-box;top: 0;bottom: 0;left: 50%;z-index: -1;}#sk-container-id-9 div.sk-parallel-item {display: flex;flex-direction: column;z-index: 1;position: relative;background-color: white;}#sk-container-id-9 div.sk-parallel-item:first-child::after {align-self: flex-end;width: 50%;}#sk-container-id-9 div.sk-parallel-item:last-child::after {align-self: flex-start;width: 50%;}#sk-container-id-9 div.sk-parallel-item:only-child::after {width: 0;}#sk-container-id-9 div.sk-dashed-wrapped {border: 1px dashed gray;margin: 0 0.4em 0.5em 0.4em;box-sizing: border-box;padding-bottom: 0.4em;background-color: white;}#sk-container-id-9 div.sk-label label {font-family: monospace;font-weight: bold;display: inline-block;line-height: 1.2em;}#sk-container-id-9 div.sk-label-container {text-align: center;}#sk-container-id-9 div.sk-container {/* jupyter's `normalize.less` sets `[hidden] { display: none; }` but bootstrap.min.css set `[hidden] { display: none !important; }` so we also need the `!important` here to be able to override the default hidden behavior on the sphinx rendered scikit-learn.org. See: https://github.com/scikit-learn/scikit-learn/issues/21755 */display: inline-block !important;position: relative;}#sk-container-id-9 div.sk-text-repr-fallback {display: none;}</style><div id=\"sk-container-id-9\" class=\"sk-top-container\"><div class=\"sk-text-repr-fallback\"><pre>KNeighborsRegressor(n_neighbors=7)</pre><b>In a Jupyter environment, please rerun this cell to show the HTML representation or trust the notebook. <br />On GitHub, the HTML representation is unable to render, please try loading this page with nbviewer.org.</b></div><div class=\"sk-container\" hidden><div class=\"sk-item\"><div class=\"sk-estimator sk-toggleable\"><input class=\"sk-toggleable__control sk-hidden--visually\" id=\"sk-estimator-id-9\" type=\"checkbox\" checked><label for=\"sk-estimator-id-9\" class=\"sk-toggleable__label sk-toggleable__label-arrow\">KNeighborsRegressor</label><div class=\"sk-toggleable__content\"><pre>KNeighborsRegressor(n_neighbors=7)</pre></div></div></div></div></div>"
      ],
      "text/plain": [
       "KNeighborsRegressor(n_neighbors=7)"
      ]
     },
     "execution_count": 327,
     "metadata": {},
     "output_type": "execute_result"
    }
   ],
   "source": [
    "## K Neighbours Regression\n",
    "\n",
    "knr = KNeighborsRegressor(n_neighbors=7)\n",
    "knr.fit(X_train,y_train)"
   ]
  },
  {
   "cell_type": "code",
   "execution_count": 328,
   "id": "d45b7164",
   "metadata": {},
   "outputs": [
    {
     "data": {
      "text/plain": [
       "array([[0.3464687 ],\n",
       "       [0.15822632],\n",
       "       [0.30094703],\n",
       "       ...,\n",
       "       [0.65104334],\n",
       "       [0.25532103],\n",
       "       [0.23626324]])"
      ]
     },
     "execution_count": 328,
     "metadata": {},
     "output_type": "execute_result"
    }
   ],
   "source": [
    "yhat2 = knr.predict(X_test)\n",
    "\n",
    "yhat2"
   ]
  },
  {
   "cell_type": "code",
   "execution_count": 329,
   "id": "8023f644",
   "metadata": {},
   "outputs": [
    {
     "data": {
      "text/plain": [
       "0.8703099373552152"
      ]
     },
     "execution_count": 329,
     "metadata": {},
     "output_type": "execute_result"
    }
   ],
   "source": [
    "#METRICA\n",
    "r2 = r2_score(y_test, yhat2)\n",
    "r2"
   ]
  },
  {
   "cell_type": "code",
   "execution_count": 319,
   "id": "63c89b6e",
   "metadata": {},
   "outputs": [
    {
     "name": "stdout",
     "output_type": "stream",
     "text": [
      "k: 1, Acurracy. 0.8241238221489272\n",
      "k: 2, Acurracy. 0.856635740928925\n",
      "k: 3, Acurracy. 0.8667952128445915\n",
      "k: 4, Acurracy. 0.8692153178977818\n",
      "k: 5, Acurracy. 0.8702522087652976\n",
      "k: 6, Acurracy. 0.869981603477219\n",
      "k: 7, Acurracy. 0.8703099373552152\n",
      "k: 8, Acurracy. 0.869339938628112\n",
      "k: 9, Acurracy. 0.8688246412921434\n",
      "k: 10, Acurracy. 0.8681347075301338\n",
      "k: 11, Acurracy. 0.866949119964035\n",
      "k: 12, Acurracy. 0.866146505252908\n",
      "k: 13, Acurracy. 0.8651066325067747\n",
      "k: 14, Acurracy. 0.8640105252022566\n",
      "k: 15, Acurracy. 0.8630759865299292\n",
      "k: 16, Acurracy. 0.862306315959683\n",
      "k: 17, Acurracy. 0.8616993102494632\n",
      "k: 18, Acurracy. 0.8606297606703961\n",
      "k: 19, Acurracy. 0.8597374412595189\n",
      "k: 20, Acurracy. 0.858818751086655\n",
      "k: 21, Acurracy. 0.8579143143293438\n",
      "k: 22, Acurracy. 0.8572114128263992\n",
      "k: 23, Acurracy. 0.8565416427281267\n",
      "k: 24, Acurracy. 0.8561555522094754\n",
      "CPU times: total: 31.8 s\n",
      "Wall time: 31.9 s\n"
     ]
    }
   ],
   "source": [
    "%%time\n",
    "\n",
    "list_r2 = list()\n",
    "\n",
    "for k in range(1, 25):\n",
    "    \n",
    "    # Modelo\n",
    "    knr = KNeighborsRegressor(n_neighbors=k)\n",
    "    knr.fit(X_train, y_train)\n",
    "    \n",
    "    # Predicciones\n",
    "    yhat = knr.predict(X_test)\n",
    "    \n",
    "    # Metricas\n",
    "    r2 = r2_score(y_test, yhat)\n",
    "    list_r2.append([k, r2])\n",
    "    \n",
    "    print(f\"k: {k}, Acurracy. {r2}\")"
   ]
  },
  {
   "cell_type": "code",
   "execution_count": 323,
   "id": "591f5b09",
   "metadata": {},
   "outputs": [],
   "source": [
    "list_r2 = np.array(list_r2)"
   ]
  },
  {
   "cell_type": "code",
   "execution_count": 324,
   "id": "fd5894d5",
   "metadata": {},
   "outputs": [
    {
     "data": {
      "image/png": "[encoded data removed]",
      "text/plain": [
       "<Figure size 1000x700 with 1 Axes>"
      ]
     },
     "metadata": {},
     "output_type": "display_data"
    }
   ],
   "source": [
    "plt.figure(figsize = (10, 7))\n",
    "\n",
    "plt.plot(list_r2[:, 1])\n",
    "\n",
    "plt.ylabel(\"R2\")\n",
    "plt.xlabel(\"Number of Neighbors (K)\")\n",
    "\n",
    "plt.show()"
   ]
  },
  {
   "cell_type": "code",
   "execution_count": 325,
   "id": "18fc857a",
   "metadata": {},
   "outputs": [
    {
     "data": {
      "text/plain": [
       "6"
      ]
     },
     "execution_count": 325,
     "metadata": {},
     "output_type": "execute_result"
    }
   ],
   "source": [
    "mejor_indice = np.argmax(list_r2[:, 1])\n",
    "mejor_indice"
   ]
  },
  {
   "cell_type": "code",
   "execution_count": 326,
   "id": "91b27b75",
   "metadata": {},
   "outputs": [
    {
     "data": {
      "text/plain": [
       "array([7.        , 0.87030994])"
      ]
     },
     "execution_count": 326,
     "metadata": {},
     "output_type": "execute_result"
    }
   ],
   "source": [
    "list_r2[mejor_indice, :]"
   ]
  },
  {
   "cell_type": "code",
   "execution_count": null,
   "id": "f1113235",
   "metadata": {},
   "outputs": [],
   "source": []
  },
  {
   "cell_type": "code",
   "execution_count": 341,
   "id": "423a5bb6",
   "metadata": {},
   "outputs": [],
   "source": [
    "df2=pd.read_csv(\"precio_coches_test.csv\")"
   ]
  },
  {
   "cell_type": "code",
   "execution_count": 342,
   "id": "d8fb46b1",
   "metadata": {},
   "outputs": [
    {
     "data": {
      "text/html": [
       "<div>\n",
       "<style scoped>\n",
       "    .dataframe tbody tr th:only-of-type {\n",
       "        vertical-align: middle;\n",
       "    }\n",
       "\n",
       "    .dataframe tbody tr th {\n",
       "        vertical-align: top;\n",
       "    }\n",
       "\n",
       "    .dataframe thead th {\n",
       "        text-align: right;\n",
       "    }\n",
       "</style>\n",
       "<table border=\"1\" class=\"dataframe\">\n",
       "  <thead>\n",
       "    <tr style=\"text-align: right;\">\n",
       "      <th></th>\n",
       "      <th>Precio</th>\n",
       "      <th>Combustible</th>\n",
       "      <th>Año</th>\n",
       "      <th>Km</th>\n",
       "      <th>CV</th>\n",
       "      <th>Provincia</th>\n",
       "      <th>Marca</th>\n",
       "    </tr>\n",
       "  </thead>\n",
       "  <tbody>\n",
       "    <tr>\n",
       "      <th>0</th>\n",
       "      <td>139900</td>\n",
       "      <td>Gasolina</td>\n",
       "      <td>2020</td>\n",
       "      <td>37900</td>\n",
       "      <td>600</td>\n",
       "      <td>Madrid</td>\n",
       "      <td>AUDI</td>\n",
       "    </tr>\n",
       "    <tr>\n",
       "      <th>1</th>\n",
       "      <td>49900</td>\n",
       "      <td>Diésel</td>\n",
       "      <td>2022</td>\n",
       "      <td>31000</td>\n",
       "      <td>190</td>\n",
       "      <td>Madrid</td>\n",
       "      <td>BMW</td>\n",
       "    </tr>\n",
       "    <tr>\n",
       "      <th>2</th>\n",
       "      <td>27250</td>\n",
       "      <td>Diésel</td>\n",
       "      <td>2021</td>\n",
       "      <td>34236</td>\n",
       "      <td>120</td>\n",
       "      <td>Madrid</td>\n",
       "      <td>FORD</td>\n",
       "    </tr>\n",
       "    <tr>\n",
       "      <th>3</th>\n",
       "      <td>6900</td>\n",
       "      <td>Gasolina</td>\n",
       "      <td>2010</td>\n",
       "      <td>90000</td>\n",
       "      <td>69</td>\n",
       "      <td>Jaén</td>\n",
       "      <td>TOYOTA</td>\n",
       "    </tr>\n",
       "    <tr>\n",
       "      <th>4</th>\n",
       "      <td>27495</td>\n",
       "      <td>Híbrido</td>\n",
       "      <td>2022</td>\n",
       "      <td>27202</td>\n",
       "      <td>122</td>\n",
       "      <td>Valencia</td>\n",
       "      <td>TOYOTA</td>\n",
       "    </tr>\n",
       "    <tr>\n",
       "      <th>...</th>\n",
       "      <td>...</td>\n",
       "      <td>...</td>\n",
       "      <td>...</td>\n",
       "      <td>...</td>\n",
       "      <td>...</td>\n",
       "      <td>...</td>\n",
       "      <td>...</td>\n",
       "    </tr>\n",
       "    <tr>\n",
       "      <th>772</th>\n",
       "      <td>7990</td>\n",
       "      <td>Diésel</td>\n",
       "      <td>2017</td>\n",
       "      <td>135772</td>\n",
       "      <td>75</td>\n",
       "      <td>Madrid</td>\n",
       "      <td>OPEL</td>\n",
       "    </tr>\n",
       "    <tr>\n",
       "      <th>773</th>\n",
       "      <td>26490</td>\n",
       "      <td>Eléctrico</td>\n",
       "      <td>2020</td>\n",
       "      <td>94622</td>\n",
       "      <td>136</td>\n",
       "      <td>Madrid</td>\n",
       "      <td>HYUNDAI</td>\n",
       "    </tr>\n",
       "    <tr>\n",
       "      <th>774</th>\n",
       "      <td>8490</td>\n",
       "      <td>Diésel</td>\n",
       "      <td>2013</td>\n",
       "      <td>215411</td>\n",
       "      <td>115</td>\n",
       "      <td>Madrid</td>\n",
       "      <td>HYUNDAI</td>\n",
       "    </tr>\n",
       "    <tr>\n",
       "      <th>775</th>\n",
       "      <td>8790</td>\n",
       "      <td>Diésel</td>\n",
       "      <td>2017</td>\n",
       "      <td>117618</td>\n",
       "      <td>75</td>\n",
       "      <td>Madrid</td>\n",
       "      <td>OPEL</td>\n",
       "    </tr>\n",
       "    <tr>\n",
       "      <th>776</th>\n",
       "      <td>18490</td>\n",
       "      <td>Híbrido</td>\n",
       "      <td>2017</td>\n",
       "      <td>112000</td>\n",
       "      <td>141</td>\n",
       "      <td>Madrid</td>\n",
       "      <td>HYUNDAI</td>\n",
       "    </tr>\n",
       "  </tbody>\n",
       "</table>\n",
       "<p>777 rows × 7 columns</p>\n",
       "</div>"
      ],
      "text/plain": [
       "     Precio Combustible   Año      Km   CV Provincia    Marca\n",
       "0    139900    Gasolina  2020   37900  600    Madrid     AUDI\n",
       "1     49900      Diésel  2022   31000  190    Madrid      BMW\n",
       "2     27250      Diésel  2021   34236  120    Madrid     FORD\n",
       "3      6900    Gasolina  2010   90000   69      Jaén   TOYOTA\n",
       "4     27495     Híbrido  2022   27202  122  Valencia   TOYOTA\n",
       "..      ...         ...   ...     ...  ...       ...      ...\n",
       "772    7990      Diésel  2017  135772   75    Madrid     OPEL\n",
       "773   26490   Eléctrico  2020   94622  136    Madrid  HYUNDAI\n",
       "774    8490      Diésel  2013  215411  115    Madrid  HYUNDAI\n",
       "775    8790      Diésel  2017  117618   75    Madrid     OPEL\n",
       "776   18490     Híbrido  2017  112000  141    Madrid  HYUNDAI\n",
       "\n",
       "[777 rows x 7 columns]"
      ]
     },
     "execution_count": 342,
     "metadata": {},
     "output_type": "execute_result"
    }
   ],
   "source": [
    "df2"
   ]
  },
  {
   "cell_type": "code",
   "execution_count": 343,
   "id": "379d0103",
   "metadata": {},
   "outputs": [],
   "source": [
    "#df2 = df2.drop(df2[df2[\"Marca\"] == \"BENTLEY\"].index)\n",
    "\n",
    "df2 = df2.drop(df2[df2[\"Marca\"] == \"FERRARI\"].index)\n",
    "df2 = df2.drop(df2[df2[\"Marca\"] == \"BENTLEY\"].index)"
   ]
  },
  {
   "cell_type": "code",
   "execution_count": 344,
   "id": "20c5bac5",
   "metadata": {},
   "outputs": [
    {
     "data": {
      "text/html": [
       "<div>\n",
       "<style scoped>\n",
       "    .dataframe tbody tr th:only-of-type {\n",
       "        vertical-align: middle;\n",
       "    }\n",
       "\n",
       "    .dataframe tbody tr th {\n",
       "        vertical-align: top;\n",
       "    }\n",
       "\n",
       "    .dataframe thead th {\n",
       "        text-align: right;\n",
       "    }\n",
       "</style>\n",
       "<table border=\"1\" class=\"dataframe\">\n",
       "  <thead>\n",
       "    <tr style=\"text-align: right;\">\n",
       "      <th></th>\n",
       "      <th>Precio</th>\n",
       "      <th>Combustible</th>\n",
       "      <th>Año</th>\n",
       "      <th>Km</th>\n",
       "      <th>CV</th>\n",
       "      <th>Provincia</th>\n",
       "      <th>Marca</th>\n",
       "    </tr>\n",
       "  </thead>\n",
       "  <tbody>\n",
       "    <tr>\n",
       "      <th>0</th>\n",
       "      <td>139900</td>\n",
       "      <td>Gasolina</td>\n",
       "      <td>2020</td>\n",
       "      <td>37900</td>\n",
       "      <td>600</td>\n",
       "      <td>29</td>\n",
       "      <td>AUDI</td>\n",
       "    </tr>\n",
       "    <tr>\n",
       "      <th>1</th>\n",
       "      <td>49900</td>\n",
       "      <td>Diésel</td>\n",
       "      <td>2022</td>\n",
       "      <td>31000</td>\n",
       "      <td>190</td>\n",
       "      <td>29</td>\n",
       "      <td>BMW</td>\n",
       "    </tr>\n",
       "    <tr>\n",
       "      <th>2</th>\n",
       "      <td>27250</td>\n",
       "      <td>Diésel</td>\n",
       "      <td>2021</td>\n",
       "      <td>34236</td>\n",
       "      <td>120</td>\n",
       "      <td>29</td>\n",
       "      <td>FORD</td>\n",
       "    </tr>\n",
       "    <tr>\n",
       "      <th>3</th>\n",
       "      <td>6900</td>\n",
       "      <td>Gasolina</td>\n",
       "      <td>2010</td>\n",
       "      <td>90000</td>\n",
       "      <td>69</td>\n",
       "      <td>22</td>\n",
       "      <td>TOYOTA</td>\n",
       "    </tr>\n",
       "    <tr>\n",
       "      <th>4</th>\n",
       "      <td>27495</td>\n",
       "      <td>Híbrido</td>\n",
       "      <td>2022</td>\n",
       "      <td>27202</td>\n",
       "      <td>122</td>\n",
       "      <td>44</td>\n",
       "      <td>TOYOTA</td>\n",
       "    </tr>\n",
       "    <tr>\n",
       "      <th>...</th>\n",
       "      <td>...</td>\n",
       "      <td>...</td>\n",
       "      <td>...</td>\n",
       "      <td>...</td>\n",
       "      <td>...</td>\n",
       "      <td>...</td>\n",
       "      <td>...</td>\n",
       "    </tr>\n",
       "    <tr>\n",
       "      <th>772</th>\n",
       "      <td>7990</td>\n",
       "      <td>Diésel</td>\n",
       "      <td>2017</td>\n",
       "      <td>135772</td>\n",
       "      <td>75</td>\n",
       "      <td>29</td>\n",
       "      <td>OPEL</td>\n",
       "    </tr>\n",
       "    <tr>\n",
       "      <th>773</th>\n",
       "      <td>26490</td>\n",
       "      <td>Eléctrico</td>\n",
       "      <td>2020</td>\n",
       "      <td>94622</td>\n",
       "      <td>136</td>\n",
       "      <td>29</td>\n",
       "      <td>HYUNDAI</td>\n",
       "    </tr>\n",
       "    <tr>\n",
       "      <th>774</th>\n",
       "      <td>8490</td>\n",
       "      <td>Diésel</td>\n",
       "      <td>2013</td>\n",
       "      <td>215411</td>\n",
       "      <td>115</td>\n",
       "      <td>29</td>\n",
       "      <td>HYUNDAI</td>\n",
       "    </tr>\n",
       "    <tr>\n",
       "      <th>775</th>\n",
       "      <td>8790</td>\n",
       "      <td>Diésel</td>\n",
       "      <td>2017</td>\n",
       "      <td>117618</td>\n",
       "      <td>75</td>\n",
       "      <td>29</td>\n",
       "      <td>OPEL</td>\n",
       "    </tr>\n",
       "    <tr>\n",
       "      <th>776</th>\n",
       "      <td>18490</td>\n",
       "      <td>Híbrido</td>\n",
       "      <td>2017</td>\n",
       "      <td>112000</td>\n",
       "      <td>141</td>\n",
       "      <td>29</td>\n",
       "      <td>HYUNDAI</td>\n",
       "    </tr>\n",
       "  </tbody>\n",
       "</table>\n",
       "<p>775 rows × 7 columns</p>\n",
       "</div>"
      ],
      "text/plain": [
       "     Precio Combustible   Año      Km   CV  Provincia    Marca\n",
       "0    139900    Gasolina  2020   37900  600         29     AUDI\n",
       "1     49900      Diésel  2022   31000  190         29      BMW\n",
       "2     27250      Diésel  2021   34236  120         29     FORD\n",
       "3      6900    Gasolina  2010   90000   69         22   TOYOTA\n",
       "4     27495     Híbrido  2022   27202  122         44   TOYOTA\n",
       "..      ...         ...   ...     ...  ...        ...      ...\n",
       "772    7990      Diésel  2017  135772   75         29     OPEL\n",
       "773   26490   Eléctrico  2020   94622  136         29  HYUNDAI\n",
       "774    8490      Diésel  2013  215411  115         29  HYUNDAI\n",
       "775    8790      Diésel  2017  117618   75         29     OPEL\n",
       "776   18490     Híbrido  2017  112000  141         29  HYUNDAI\n",
       "\n",
       "[775 rows x 7 columns]"
      ]
     },
     "execution_count": 344,
     "metadata": {},
     "output_type": "execute_result"
    }
   ],
   "source": [
    "provincia = prov_labelEncoding.transform(df2[\"Provincia\"])\n",
    "\n",
    "df2[\"Provincia\"] = provincia\n",
    "\n",
    "df2"
   ]
  },
  {
   "cell_type": "code",
   "execution_count": 345,
   "id": "0856cc86",
   "metadata": {},
   "outputs": [
    {
     "data": {
      "text/html": [
       "<div>\n",
       "<style scoped>\n",
       "    .dataframe tbody tr th:only-of-type {\n",
       "        vertical-align: middle;\n",
       "    }\n",
       "\n",
       "    .dataframe tbody tr th {\n",
       "        vertical-align: top;\n",
       "    }\n",
       "\n",
       "    .dataframe thead th {\n",
       "        text-align: right;\n",
       "    }\n",
       "</style>\n",
       "<table border=\"1\" class=\"dataframe\">\n",
       "  <thead>\n",
       "    <tr style=\"text-align: right;\">\n",
       "      <th></th>\n",
       "      <th>Precio</th>\n",
       "      <th>Combustible</th>\n",
       "      <th>Año</th>\n",
       "      <th>Km</th>\n",
       "      <th>CV</th>\n",
       "      <th>Provincia</th>\n",
       "      <th>Marca</th>\n",
       "    </tr>\n",
       "  </thead>\n",
       "  <tbody>\n",
       "    <tr>\n",
       "      <th>0</th>\n",
       "      <td>139900</td>\n",
       "      <td>3</td>\n",
       "      <td>2020</td>\n",
       "      <td>37900</td>\n",
       "      <td>600</td>\n",
       "      <td>29</td>\n",
       "      <td>AUDI</td>\n",
       "    </tr>\n",
       "    <tr>\n",
       "      <th>1</th>\n",
       "      <td>49900</td>\n",
       "      <td>0</td>\n",
       "      <td>2022</td>\n",
       "      <td>31000</td>\n",
       "      <td>190</td>\n",
       "      <td>29</td>\n",
       "      <td>BMW</td>\n",
       "    </tr>\n",
       "    <tr>\n",
       "      <th>2</th>\n",
       "      <td>27250</td>\n",
       "      <td>0</td>\n",
       "      <td>2021</td>\n",
       "      <td>34236</td>\n",
       "      <td>120</td>\n",
       "      <td>29</td>\n",
       "      <td>FORD</td>\n",
       "    </tr>\n",
       "    <tr>\n",
       "      <th>3</th>\n",
       "      <td>6900</td>\n",
       "      <td>3</td>\n",
       "      <td>2010</td>\n",
       "      <td>90000</td>\n",
       "      <td>69</td>\n",
       "      <td>22</td>\n",
       "      <td>TOYOTA</td>\n",
       "    </tr>\n",
       "    <tr>\n",
       "      <th>4</th>\n",
       "      <td>27495</td>\n",
       "      <td>4</td>\n",
       "      <td>2022</td>\n",
       "      <td>27202</td>\n",
       "      <td>122</td>\n",
       "      <td>44</td>\n",
       "      <td>TOYOTA</td>\n",
       "    </tr>\n",
       "    <tr>\n",
       "      <th>...</th>\n",
       "      <td>...</td>\n",
       "      <td>...</td>\n",
       "      <td>...</td>\n",
       "      <td>...</td>\n",
       "      <td>...</td>\n",
       "      <td>...</td>\n",
       "      <td>...</td>\n",
       "    </tr>\n",
       "    <tr>\n",
       "      <th>772</th>\n",
       "      <td>7990</td>\n",
       "      <td>0</td>\n",
       "      <td>2017</td>\n",
       "      <td>135772</td>\n",
       "      <td>75</td>\n",
       "      <td>29</td>\n",
       "      <td>OPEL</td>\n",
       "    </tr>\n",
       "    <tr>\n",
       "      <th>773</th>\n",
       "      <td>26490</td>\n",
       "      <td>1</td>\n",
       "      <td>2020</td>\n",
       "      <td>94622</td>\n",
       "      <td>136</td>\n",
       "      <td>29</td>\n",
       "      <td>HYUNDAI</td>\n",
       "    </tr>\n",
       "    <tr>\n",
       "      <th>774</th>\n",
       "      <td>8490</td>\n",
       "      <td>0</td>\n",
       "      <td>2013</td>\n",
       "      <td>215411</td>\n",
       "      <td>115</td>\n",
       "      <td>29</td>\n",
       "      <td>HYUNDAI</td>\n",
       "    </tr>\n",
       "    <tr>\n",
       "      <th>775</th>\n",
       "      <td>8790</td>\n",
       "      <td>0</td>\n",
       "      <td>2017</td>\n",
       "      <td>117618</td>\n",
       "      <td>75</td>\n",
       "      <td>29</td>\n",
       "      <td>OPEL</td>\n",
       "    </tr>\n",
       "    <tr>\n",
       "      <th>776</th>\n",
       "      <td>18490</td>\n",
       "      <td>4</td>\n",
       "      <td>2017</td>\n",
       "      <td>112000</td>\n",
       "      <td>141</td>\n",
       "      <td>29</td>\n",
       "      <td>HYUNDAI</td>\n",
       "    </tr>\n",
       "  </tbody>\n",
       "</table>\n",
       "<p>775 rows × 7 columns</p>\n",
       "</div>"
      ],
      "text/plain": [
       "     Precio  Combustible   Año      Km   CV  Provincia    Marca\n",
       "0    139900            3  2020   37900  600         29     AUDI\n",
       "1     49900            0  2022   31000  190         29      BMW\n",
       "2     27250            0  2021   34236  120         29     FORD\n",
       "3      6900            3  2010   90000   69         22   TOYOTA\n",
       "4     27495            4  2022   27202  122         44   TOYOTA\n",
       "..      ...          ...   ...     ...  ...        ...      ...\n",
       "772    7990            0  2017  135772   75         29     OPEL\n",
       "773   26490            1  2020   94622  136         29  HYUNDAI\n",
       "774    8490            0  2013  215411  115         29  HYUNDAI\n",
       "775    8790            0  2017  117618   75         29     OPEL\n",
       "776   18490            4  2017  112000  141         29  HYUNDAI\n",
       "\n",
       "[775 rows x 7 columns]"
      ]
     },
     "execution_count": 345,
     "metadata": {},
     "output_type": "execute_result"
    }
   ],
   "source": [
    "combustible = comb_labelEncoding.transform(df2[\"Combustible\"])\n",
    "\n",
    "df2[\"Combustible\"] = combustible\n",
    "\n",
    "df2"
   ]
  },
  {
   "cell_type": "code",
   "execution_count": 346,
   "id": "ccf4aebe",
   "metadata": {},
   "outputs": [
    {
     "data": {
      "text/html": [
       "<div>\n",
       "<style scoped>\n",
       "    .dataframe tbody tr th:only-of-type {\n",
       "        vertical-align: middle;\n",
       "    }\n",
       "\n",
       "    .dataframe tbody tr th {\n",
       "        vertical-align: top;\n",
       "    }\n",
       "\n",
       "    .dataframe thead th {\n",
       "        text-align: right;\n",
       "    }\n",
       "</style>\n",
       "<table border=\"1\" class=\"dataframe\">\n",
       "  <thead>\n",
       "    <tr style=\"text-align: right;\">\n",
       "      <th></th>\n",
       "      <th>Precio</th>\n",
       "      <th>Combustible</th>\n",
       "      <th>Año</th>\n",
       "      <th>Km</th>\n",
       "      <th>CV</th>\n",
       "      <th>Provincia</th>\n",
       "      <th>Marca</th>\n",
       "    </tr>\n",
       "  </thead>\n",
       "  <tbody>\n",
       "    <tr>\n",
       "      <th>0</th>\n",
       "      <td>139900</td>\n",
       "      <td>3</td>\n",
       "      <td>2020</td>\n",
       "      <td>37900</td>\n",
       "      <td>600</td>\n",
       "      <td>29</td>\n",
       "      <td>4</td>\n",
       "    </tr>\n",
       "    <tr>\n",
       "      <th>1</th>\n",
       "      <td>49900</td>\n",
       "      <td>0</td>\n",
       "      <td>2022</td>\n",
       "      <td>31000</td>\n",
       "      <td>190</td>\n",
       "      <td>29</td>\n",
       "      <td>5</td>\n",
       "    </tr>\n",
       "    <tr>\n",
       "      <th>2</th>\n",
       "      <td>27250</td>\n",
       "      <td>0</td>\n",
       "      <td>2021</td>\n",
       "      <td>34236</td>\n",
       "      <td>120</td>\n",
       "      <td>29</td>\n",
       "      <td>18</td>\n",
       "    </tr>\n",
       "    <tr>\n",
       "      <th>3</th>\n",
       "      <td>6900</td>\n",
       "      <td>3</td>\n",
       "      <td>2010</td>\n",
       "      <td>90000</td>\n",
       "      <td>69</td>\n",
       "      <td>22</td>\n",
       "      <td>65</td>\n",
       "    </tr>\n",
       "    <tr>\n",
       "      <th>4</th>\n",
       "      <td>27495</td>\n",
       "      <td>4</td>\n",
       "      <td>2022</td>\n",
       "      <td>27202</td>\n",
       "      <td>122</td>\n",
       "      <td>44</td>\n",
       "      <td>65</td>\n",
       "    </tr>\n",
       "    <tr>\n",
       "      <th>...</th>\n",
       "      <td>...</td>\n",
       "      <td>...</td>\n",
       "      <td>...</td>\n",
       "      <td>...</td>\n",
       "      <td>...</td>\n",
       "      <td>...</td>\n",
       "      <td>...</td>\n",
       "    </tr>\n",
       "    <tr>\n",
       "      <th>772</th>\n",
       "      <td>7990</td>\n",
       "      <td>0</td>\n",
       "      <td>2017</td>\n",
       "      <td>135772</td>\n",
       "      <td>75</td>\n",
       "      <td>29</td>\n",
       "      <td>47</td>\n",
       "    </tr>\n",
       "    <tr>\n",
       "      <th>773</th>\n",
       "      <td>26490</td>\n",
       "      <td>1</td>\n",
       "      <td>2020</td>\n",
       "      <td>94622</td>\n",
       "      <td>136</td>\n",
       "      <td>29</td>\n",
       "      <td>24</td>\n",
       "    </tr>\n",
       "    <tr>\n",
       "      <th>774</th>\n",
       "      <td>8490</td>\n",
       "      <td>0</td>\n",
       "      <td>2013</td>\n",
       "      <td>215411</td>\n",
       "      <td>115</td>\n",
       "      <td>29</td>\n",
       "      <td>24</td>\n",
       "    </tr>\n",
       "    <tr>\n",
       "      <th>775</th>\n",
       "      <td>8790</td>\n",
       "      <td>0</td>\n",
       "      <td>2017</td>\n",
       "      <td>117618</td>\n",
       "      <td>75</td>\n",
       "      <td>29</td>\n",
       "      <td>47</td>\n",
       "    </tr>\n",
       "    <tr>\n",
       "      <th>776</th>\n",
       "      <td>18490</td>\n",
       "      <td>4</td>\n",
       "      <td>2017</td>\n",
       "      <td>112000</td>\n",
       "      <td>141</td>\n",
       "      <td>29</td>\n",
       "      <td>24</td>\n",
       "    </tr>\n",
       "  </tbody>\n",
       "</table>\n",
       "<p>775 rows × 7 columns</p>\n",
       "</div>"
      ],
      "text/plain": [
       "     Precio  Combustible   Año      Km   CV  Provincia  Marca\n",
       "0    139900            3  2020   37900  600         29      4\n",
       "1     49900            0  2022   31000  190         29      5\n",
       "2     27250            0  2021   34236  120         29     18\n",
       "3      6900            3  2010   90000   69         22     65\n",
       "4     27495            4  2022   27202  122         44     65\n",
       "..      ...          ...   ...     ...  ...        ...    ...\n",
       "772    7990            0  2017  135772   75         29     47\n",
       "773   26490            1  2020   94622  136         29     24\n",
       "774    8490            0  2013  215411  115         29     24\n",
       "775    8790            0  2017  117618   75         29     47\n",
       "776   18490            4  2017  112000  141         29     24\n",
       "\n",
       "[775 rows x 7 columns]"
      ]
     },
     "execution_count": 346,
     "metadata": {},
     "output_type": "execute_result"
    }
   ],
   "source": [
    "marca2 = marca_labelEncoding.transform(df2[\"Marca\"])\n",
    "\n",
    "df2[\"Marca\"] = marca2\n",
    "\n",
    "df2"
   ]
  },
  {
   "cell_type": "code",
   "execution_count": 347,
   "id": "1a7e054e",
   "metadata": {},
   "outputs": [],
   "source": [
    "df2_precio = df2[\"Precio\"].copy()\n",
    "\n",
    "df2.drop(\"Precio\", axis=1, inplace=True)"
   ]
  },
  {
   "cell_type": "code",
   "execution_count": 348,
   "id": "68b9f59c",
   "metadata": {},
   "outputs": [
    {
     "data": {
      "text/plain": [
       "0      139900\n",
       "1       49900\n",
       "2       27250\n",
       "3        6900\n",
       "4       27495\n",
       "        ...  \n",
       "772      7990\n",
       "773     26490\n",
       "774      8490\n",
       "775      8790\n",
       "776     18490\n",
       "Name: Precio, Length: 775, dtype: int64"
      ]
     },
     "execution_count": 348,
     "metadata": {},
     "output_type": "execute_result"
    }
   ],
   "source": [
    "df2_precio"
   ]
  },
  {
   "cell_type": "code",
   "execution_count": 349,
   "id": "05a76e32",
   "metadata": {},
   "outputs": [],
   "source": [
    "df2_precioDF = pd.DataFrame(df2_precio)"
   ]
  },
  {
   "cell_type": "code",
   "execution_count": 350,
   "id": "5fe56195",
   "metadata": {},
   "outputs": [],
   "source": [
    "X2 = x_scaler.transform(df2)\n",
    "Y2 = y_scaler.transform(df2_precioDF)"
   ]
  },
  {
   "cell_type": "code",
   "execution_count": 354,
   "id": "df70baca",
   "metadata": {},
   "outputs": [],
   "source": [
    "yhat2 = regresion_lineal.predict(X2)"
   ]
  },
  {
   "cell_type": "code",
   "execution_count": 355,
   "id": "84d40365",
   "metadata": {},
   "outputs": [
    {
     "name": "stdout",
     "output_type": "stream",
     "text": [
      "0.7673811136478459\n"
     ]
    }
   ],
   "source": [
    "mae2 = mean_absolute_error(Y2, yhat2)\n",
    "mse2 = mean_squared_error(Y2, yhat2)\n",
    "r2_2 = r2_score(Y2, yhat2)\n",
    "\n",
    "print(r2_2)"
   ]
  },
  {
   "cell_type": "code",
   "execution_count": null,
   "id": "23bbddc8",
   "metadata": {},
   "outputs": [],
   "source": []
  }
 ],
 "metadata": {
  "kernelspec": {
   "display_name": "Python 3 (ipykernel)",
   "language": "python",
   "name": "python3"
  },
  "language_info": {
   "codemirror_mode": {
    "name": "ipython",
    "version": 3
   },
   "file_extension": ".py",
   "mimetype": "text/x-python",
   "name": "python",
   "nbconvert_exporter": "python",
   "pygments_lexer": "ipython3",
   "version": "3.10.9"
  }
 },
 "nbformat": 4,
 "nbformat_minor": 5
}
